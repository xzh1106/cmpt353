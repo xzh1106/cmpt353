{
 "cells": [
  {
   "cell_type": "code",
   "execution_count": 1,
   "id": "2eb3d7be",
   "metadata": {},
   "outputs": [],
   "source": [
    "import numpy as np\n",
    "import sys\n",
    "import pandas as pd\n",
    "import difflib\n",
    "import matplotlib.pyplot as plt"
   ]
  },
  {
   "cell_type": "code",
   "execution_count": 2,
   "id": "01251d8b",
   "metadata": {},
   "outputs": [
    {
     "name": "stdout",
     "output_type": "stream",
     "text": [
      "             lat         lon                      timestamp     amenity  \\\n",
      "0      49.219983 -122.988481  2022-09-06T04:52:12.000-07:00    post_box   \n",
      "1      49.280256 -122.928894  2020-07-01T18:38:39.000-07:00   telephone   \n",
      "2      49.342204 -123.007726  2009-02-18T05:41:00.000-08:00       bench   \n",
      "3      49.127048 -123.057190  2020-12-25T22:39:27.000-08:00     toilets   \n",
      "4      49.121716 -123.063593  2016-11-11T21:53:21.000-08:00     toilets   \n",
      "...          ...         ...                            ...         ...   \n",
      "25078  49.278770 -122.797628  2020-12-20T13:19:26.000-08:00  restaurant   \n",
      "25079  49.276443 -122.790138  2020-12-13T00:34:09.000-08:00     parking   \n",
      "25080  49.282666 -122.826978  2019-09-13T13:56:49.000-07:00         pub   \n",
      "25081  49.282420 -122.826340  2019-09-13T13:56:49.000-07:00        cafe   \n",
      "25082  49.299528 -123.121306  2022-08-21T01:30:27.000-07:00     toilets   \n",
      "\n",
      "                                                    tags                  name  \n",
      "0      {'collection_times': 'Mo-Fr 16:00', 'operator:...                   NaN  \n",
      "1                                                     {}                   NaN  \n",
      "2                                                     {}                   NaN  \n",
      "3      {'wheelchair': 'yes', 'toilets:disposal': 'flu...                   NaN  \n",
      "4                     {'toilets:disposal': 'pitlatrine'}                   NaN  \n",
      "...                                                  ...                   ...  \n",
      "25078  {'cuisine': 'japanese', 'addr:city': 'Coquitlam'}            Togo Sushi  \n",
      "25079  {'parking': 'surface', 'access': 'yes', 'fee':...                   NaN  \n",
      "25080  {'addr:housenumber': '215', 'brewery': 'Guinne...  Brown's Social House  \n",
      "25081  {'addr:housenumber': '232', 'internet_access':...      Gallagher's Cafe  \n",
      "25082  {'unisex': 'yes', 'wheelchair': 'yes', 'access...                   NaN  \n",
      "\n",
      "[25083 rows x 6 columns]\n"
     ]
    }
   ],
   "source": [
    "amenities = pd.read_json(\"amenities-vancouver.json.gz\", lines=True)\n",
    "print(amenities)"
   ]
  },
  {
   "cell_type": "code",
   "execution_count": 3,
   "id": "cdabe8d1",
   "metadata": {},
   "outputs": [
    {
     "name": "stdout",
     "output_type": "stream",
     "text": [
      "             lat         lon                      timestamp           amenity  \\\n",
      "5      49.276298 -123.121429  2021-01-05T17:01:30.000-08:00              bank   \n",
      "6      49.260812 -123.125736  2020-03-20T18:22:12.000-07:00              cafe   \n",
      "7      49.260953 -123.125704  2019-08-02T18:11:20.000-07:00         fast_food   \n",
      "15     49.126650 -123.182470  2020-03-30T09:08:51.000-07:00        restaurant   \n",
      "16     49.276075 -123.127167  2021-11-12T22:08:46.000-08:00  parking_entrance   \n",
      "...          ...         ...                            ...               ...   \n",
      "25076  49.250408 -123.076261  2022-06-28T17:25:59.000-07:00        restaurant   \n",
      "25077  49.278424 -122.806704  2022-09-25T21:16:17.000-07:00              cafe   \n",
      "25078  49.278770 -122.797628  2020-12-20T13:19:26.000-08:00        restaurant   \n",
      "25080  49.282666 -122.826978  2019-09-13T13:56:49.000-07:00               pub   \n",
      "25081  49.282420 -122.826340  2019-09-13T13:56:49.000-07:00              cafe   \n",
      "\n",
      "                                                    tags  \\\n",
      "5      {'brand:wikidata': 'Q666694', 'addr:province':...   \n",
      "6      {'brand:wikidata': 'Q37158', 'official_name': ...   \n",
      "7      {'opening_hours': 'Mo-Fr 07:00-17:00; Sa 10:00...   \n",
      "15     {'addr:housenumber': '10-3891', 'phone': '+1-6...   \n",
      "16     {'parking': 'underground', 'maxheight': '1.98'...   \n",
      "...                                                  ...   \n",
      "25076  {'wheelchair': 'yes', 'addr:housenumber': '139...   \n",
      "25077  {'addr:province': 'BC', 'addr:housenumber': '2...   \n",
      "25078  {'cuisine': 'japanese', 'addr:city': 'Coquitlam'}   \n",
      "25080  {'addr:housenumber': '215', 'brewery': 'Guinne...   \n",
      "25081  {'addr:housenumber': '232', 'internet_access':...   \n",
      "\n",
      "                           name  \n",
      "5                          CIBC  \n",
      "6                     Starbucks  \n",
      "7                    Salad Loop  \n",
      "15     Best Bite Indian Cuisine  \n",
      "16                        Hertz  \n",
      "...                         ...  \n",
      "25076            House of Dosas  \n",
      "25077  Creekside Coffee Factory  \n",
      "25078                Togo Sushi  \n",
      "25080      Brown's Social House  \n",
      "25081          Gallagher's Cafe  \n",
      "\n",
      "[9857 rows x 6 columns]\n"
     ]
    }
   ],
   "source": [
    "amenities = amenities[amenities['name'].notna()]\n",
    "print(amenities)"
   ]
  },
  {
   "cell_type": "code",
   "execution_count": 4,
   "id": "dbf80ad9",
   "metadata": {},
   "outputs": [
    {
     "name": "stdout",
     "output_type": "stream",
     "text": [
      "['bank' 'cafe' 'fast_food' 'restaurant' 'parking_entrance' 'pub' 'fuel'\n",
      " 'school' 'pharmacy' 'dentist' 'doctors' 'public_building' 'post_office'\n",
      " 'atm' 'childcare' 'bar' 'ice_cream' 'bus_station' 'community_centre'\n",
      " 'library' 'bicycle_rental' 'clinic' 'public_bookcase' 'university' 'dojo'\n",
      " 'kindergarten' 'ferry_terminal' 'cinema' 'theatre' 'recycling'\n",
      " 'drinking_water' 'car_rental' 'bicycle_parking' 'bench' 'toilets'\n",
      " 'veterinary' 'post_box' 'post_depot' 'vending_machine' 'bureau_de_change'\n",
      " 'clock' 'car_wash' 'nightclub' 'animal_boarding' 'place_of_worship'\n",
      " 'arts_centre' 'social_facility' 'prep_school' 'college' 'food_court'\n",
      " 'parking' 'motorcycle_parking' 'charging_station' 'boat_rental'\n",
      " 'fountain' 'social_centre' 'police' 'fire_station' 'conference_centre'\n",
      " 'gambling' 'marketplace' 'karaoke_box' 'music_school' 'family_centre'\n",
      " 'townhall' 'studio' 'training' 'courthouse' 'spa' 'waste_basket'\n",
      " 'meditation_centre' 'bistro' 'language_school' 'events_venue'\n",
      " 'healthcare' 'hookah_lounge' 'internet_cafe' 'driving_school'\n",
      " 'disused:restaurant' 'casino' 'waste_disposal' 'science' 'workshop'\n",
      " 'safety' 'lobby' 'animal_shelter' 'car_sharing' 'storage_rental'\n",
      " 'atm;bank' 'shelter' 'dance' 'housing co-op' 'parcel_locker'\n",
      " 'research_institute' 'monastery' 'nursing_home' 'Observation Platform'\n",
      " 'water_point' 'dive_centre' 'laboratory' 'cooking_school'\n",
      " 'money_transfer' 'telephone' 'waste_transfer_station' 'construction'\n",
      " 'toy_library' 'animal_training' 'lounge' 'hospital' 'give_box'\n",
      " 'weighbridge' 'bicycle_repair_station' 'motorcycle_rental' 'leisure'\n",
      " 'parking_space' 'prison']\n"
     ]
    }
   ],
   "source": [
    "amenities_types =amenities['amenity'].unique()\n",
    "print(amenities_types)"
   ]
  },
  {
   "cell_type": "code",
   "execution_count": 11,
   "id": "62c5134e",
   "metadata": {},
   "outputs": [],
   "source": [
    "def merge_similar_amentity(df): #merge amenities with similar/same amenity type\n",
    "    df['amenity'] = df['amenity'].replace(['fast_food'], 'food')\n",
    "    df['amenity'] = df['amenity'].replace(['food_court'], 'food')\n",
    "    df['amenity'] = df['amenity'].replace(['restaurant'], 'food')\n",
    "    df['amenity'] = df['amenity'].replace(['cafe'], 'food')\n",
    "    df['amenity'] = df['amenity'].replace(['ice_cream'], 'food')\n",
    "    df['amenity'] = df['amenity'].replace(['bistro'], 'food')\n",
    "    \n",
    "    df['amenity'] = df['amenity'].replace(['parking_entrance'], 'parking')\n",
    "    df['amenity'] = df['amenity'].replace(['bicycle_parking'], 'parking')\n",
    "    df['amenity'] = df['amenity'].replace(['motorcycle_parking'], 'parking')\n",
    "    df['amenity'] = df['amenity'].replace(['parking_space'], 'parking')\n",
    "    \n",
    "    df['amenity'] = df['amenity'].replace(['pub'], 'recreation')\n",
    "    df['amenity'] = df['amenity'].replace(['nightclub'], 'recreation')\n",
    "    df['amenity'] = df['amenity'].replace(['bar'], 'recreation')\n",
    "    df['amenity'] = df['amenity'].replace(['community_centre'], 'recreation')\n",
    "    df['amenity'] = df['amenity'].replace(['public_bookcase'], 'recreation')\n",
    "    df['amenity'] = df['amenity'].replace(['library'], 'recreation')\n",
    "    df['amenity'] = df['amenity'].replace(['cinema'], 'recreation')\n",
    "    df['amenity'] = df['amenity'].replace(['theatre'], 'recreation')\n",
    "    df['amenity'] = df['amenity'].replace(['arts_centre'], 'recreation')\n",
    "    df['amenity'] = df['amenity'].replace(['fountain'], 'recreation')\n",
    "    df['amenity'] = df['amenity'].replace(['social_centre'], 'recreation')\n",
    "    df['amenity'] = df['amenity'].replace(['conference_centre'], 'recreation')\n",
    "    df['amenity'] = df['amenity'].replace(['marketplace'], 'recreation')\n",
    "    df['amenity'] = df['amenity'].replace(['spa'], 'recreation')\n",
    "    df['amenity'] = df['amenity'].replace(['events_venue'], 'recreation')\n",
    "    df['amenity'] = df['amenity'].replace(['hookah_lounge'], 'recreation')\n",
    "    df['amenity'] = df['amenity'].replace(['casino'], 'recreation')\n",
    "    df['amenity'] = df['amenity'].replace(['dance'], 'recreation')\n",
    "    df['amenity'] = df['amenity'].replace(['Observation Platform'], 'recreation')\n",
    "    df['amenity'] = df['amenity'].replace(['dive_centre'], 'recreation')\n",
    "    df['amenity'] = df['amenity'].replace(['toy_library'], 'recreation')\n",
    "    df['amenity'] = df['amenity'].replace(['leisure'], 'recreation')\n",
    "    \n",
    "    df['amenity'] = df['amenity'].replace(['bus_station'], 'traffic')\n",
    "    df['amenity'] = df['amenity'].replace(['bicycle_rental'], 'traffic')\n",
    "    df['amenity'] = df['amenity'].replace(['ferry_terminal'], 'traffic')\n",
    "    df['amenity'] = df['amenity'].replace(['car_rental'], 'traffic')\n",
    "    df['amenity'] = df['amenity'].replace(['boat_rental'], 'traffic')\n",
    "    df['amenity'] = df['amenity'].replace(['motorcycle_rental'], 'traffic')\n",
    "    return df"
   ]
  },
  {
   "cell_type": "code",
   "execution_count": 19,
   "id": "67ecd04c",
   "metadata": {},
   "outputs": [
    {
     "name": "stdout",
     "output_type": "stream",
     "text": [
      "['bank' 'food' 'parking' 'recreation' 'fuel' 'school' 'pharmacy' 'dentist'\n",
      " 'doctors' 'public_building' 'post_office' 'atm' 'childcare' 'traffic'\n",
      " 'clinic' 'university' 'dojo' 'kindergarten' 'recycling' 'drinking_water'\n",
      " 'bench' 'toilets' 'veterinary' 'post_box' 'post_depot' 'vending_machine'\n",
      " 'bureau_de_change' 'clock' 'car_wash' 'animal_boarding'\n",
      " 'place_of_worship' 'social_facility' 'prep_school' 'college'\n",
      " 'charging_station' 'police' 'fire_station' 'gambling' 'karaoke_box'\n",
      " 'music_school' 'family_centre' 'townhall' 'studio' 'training'\n",
      " 'courthouse' 'waste_basket' 'meditation_centre' 'language_school'\n",
      " 'healthcare' 'internet_cafe' 'driving_school' 'disused:restaurant'\n",
      " 'waste_disposal' 'science' 'workshop' 'safety' 'lobby' 'animal_shelter'\n",
      " 'car_sharing' 'storage_rental' 'atm;bank' 'shelter' 'housing co-op'\n",
      " 'parcel_locker' 'research_institute' 'monastery' 'nursing_home'\n",
      " 'water_point' 'laboratory' 'cooking_school' 'money_transfer' 'telephone'\n",
      " 'waste_transfer_station' 'construction' 'animal_training' 'lounge'\n",
      " 'hospital' 'give_box' 'weighbridge' 'bicycle_repair_station' 'prison']\n",
      "             lat         lon                      timestamp     amenity  \\\n",
      "5      49.276298 -123.121429  2021-01-05T17:01:30.000-08:00        bank   \n",
      "6      49.260812 -123.125736  2020-03-20T18:22:12.000-07:00        food   \n",
      "7      49.260953 -123.125704  2019-08-02T18:11:20.000-07:00        food   \n",
      "15     49.126650 -123.182470  2020-03-30T09:08:51.000-07:00        food   \n",
      "16     49.276075 -123.127167  2021-11-12T22:08:46.000-08:00     parking   \n",
      "...          ...         ...                            ...         ...   \n",
      "25076  49.250408 -123.076261  2022-06-28T17:25:59.000-07:00        food   \n",
      "25077  49.278424 -122.806704  2022-09-25T21:16:17.000-07:00        food   \n",
      "25078  49.278770 -122.797628  2020-12-20T13:19:26.000-08:00        food   \n",
      "25080  49.282666 -122.826978  2019-09-13T13:56:49.000-07:00  recreation   \n",
      "25081  49.282420 -122.826340  2019-09-13T13:56:49.000-07:00        food   \n",
      "\n",
      "                                                    tags  \\\n",
      "5      {'brand:wikidata': 'Q666694', 'addr:province':...   \n",
      "6      {'brand:wikidata': 'Q37158', 'official_name': ...   \n",
      "7      {'opening_hours': 'Mo-Fr 07:00-17:00; Sa 10:00...   \n",
      "15     {'addr:housenumber': '10-3891', 'phone': '+1-6...   \n",
      "16     {'parking': 'underground', 'maxheight': '1.98'...   \n",
      "...                                                  ...   \n",
      "25076  {'wheelchair': 'yes', 'addr:housenumber': '139...   \n",
      "25077  {'addr:province': 'BC', 'addr:housenumber': '2...   \n",
      "25078  {'cuisine': 'japanese', 'addr:city': 'Coquitlam'}   \n",
      "25080  {'addr:housenumber': '215', 'brewery': 'Guinne...   \n",
      "25081  {'addr:housenumber': '232', 'internet_access':...   \n",
      "\n",
      "                           name  \n",
      "5                          CIBC  \n",
      "6                     Starbucks  \n",
      "7                    Salad Loop  \n",
      "15     Best Bite Indian Cuisine  \n",
      "16                        Hertz  \n",
      "...                         ...  \n",
      "25076            House of Dosas  \n",
      "25077  Creekside Coffee Factory  \n",
      "25078                Togo Sushi  \n",
      "25080      Brown's Social House  \n",
      "25081          Gallagher's Cafe  \n",
      "\n",
      "[9857 rows x 6 columns]\n"
     ]
    }
   ],
   "source": [
    "amenities = merge_similar_amentity(amenities)\n",
    "amenities_types =amenities['amenity'].unique()\n",
    "print(amenities_types)\n",
    "print(amenities)"
   ]
  },
  {
   "cell_type": "code",
   "execution_count": 17,
   "id": "944ce7bc",
   "metadata": {},
   "outputs": [
    {
     "ename": "NameError",
     "evalue": "name 'best_hotel_data_cleaning' is not defined",
     "output_type": "error",
     "traceback": [
      "\u001b[0;31m---------------------------------------------------------------------------\u001b[0m",
      "\u001b[0;31mNameError\u001b[0m                                 Traceback (most recent call last)",
      "\u001b[0;32m/var/folders/1y/fcljqrdd7x39bb8fwtvcdzb00000gn/T/ipykernel_1835/1046224246.py\u001b[0m in \u001b[0;36m<module>\u001b[0;34m\u001b[0m\n\u001b[0;32m----> 1\u001b[0;31m \u001b[0mamenities\u001b[0m\u001b[0;34m.\u001b[0m\u001b[0mto_csv\u001b[0m\u001b[0;34m(\u001b[0m\u001b[0mbest_hotel_data_cleaning\u001b[0m\u001b[0;34m.\u001b[0m\u001b[0mcsv\u001b[0m\u001b[0;34m,\u001b[0m \u001b[0mindex\u001b[0m \u001b[0;34m=\u001b[0m \u001b[0;32mFalse\u001b[0m\u001b[0;34m)\u001b[0m\u001b[0;34m\u001b[0m\u001b[0;34m\u001b[0m\u001b[0m\n\u001b[0m",
      "\u001b[0;31mNameError\u001b[0m: name 'best_hotel_data_cleaning' is not defined"
     ]
    }
   ],
   "source": [
    "amenities.to_csv('best_hotel_data_cleaning.csv', index = False)"
   ]
  },
  {
   "cell_type": "code",
   "execution_count": null,
   "id": "04663088",
   "metadata": {},
   "outputs": [],
   "source": []
  }
 ],
 "metadata": {
  "kernelspec": {
   "display_name": "Python 3 (ipykernel)",
   "language": "python",
   "name": "python3"
  },
  "language_info": {
   "codemirror_mode": {
    "name": "ipython",
    "version": 3
   },
   "file_extension": ".py",
   "mimetype": "text/x-python",
   "name": "python",
   "nbconvert_exporter": "python",
   "pygments_lexer": "ipython3",
   "version": "3.9.13"
  }
 },
 "nbformat": 4,
 "nbformat_minor": 5
}
